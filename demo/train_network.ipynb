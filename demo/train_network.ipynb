{
 "cells": [
  {
   "cell_type": "code",
   "execution_count": 1,
   "metadata": {},
   "outputs": [
    {
     "name": "stderr",
     "output_type": "stream",
     "text": [
      "Using TensorFlow backend.\n"
     ]
    }
   ],
   "source": [
    "import matplotlib\n",
    "matplotlib.use(\"Agg\")\n",
    "\n",
    "# import the necessary packages\n",
    "from keras.preprocessing.image import ImageDataGenerator\n",
    "from keras.optimizers import Adam\n",
    "from sklearn.model_selection import train_test_split\n",
    "from keras.preprocessing.image import img_to_array\n",
    "from keras.utils import to_categorical\n",
    "from pyimagesearch.lenet import LeNet\n",
    "from imutils import paths\n",
    "import matplotlib.pyplot as plt\n",
    "import numpy as np\n",
    "import argparse\n",
    "import random\n",
    "import cv2\n",
    "import os"
   ]
  },
  {
   "cell_type": "code",
   "execution_count": 2,
   "metadata": {},
   "outputs": [],
   "source": [
    "# initialize the number of epochs to train for, initia learning rate,\n",
    "# and batch size\n",
    "EPOCHS = 25\n",
    "INIT_LR = 1e-3\n",
    "BS = 18"
   ]
  },
  {
   "cell_type": "code",
   "execution_count": 3,
   "metadata": {},
   "outputs": [
    {
     "name": "stdout",
     "output_type": "stream",
     "text": [
      "[INFO] loading images...\n"
     ]
    }
   ],
   "source": [
    "# initialize the data and labels\n",
    "print(\"[INFO] loading images...\")\n",
    "data = []\n",
    "labels = []"
   ]
  },
  {
   "cell_type": "code",
   "execution_count": 4,
   "metadata": {},
   "outputs": [],
   "source": [
    "# grab the image paths and randomly shuffle them\n",
    "imagePaths = sorted(list(paths.list_images(\"train\")))\n",
    "random.seed(42)\n",
    "random.shuffle(imagePaths)"
   ]
  },
  {
   "cell_type": "code",
   "execution_count": 5,
   "metadata": {},
   "outputs": [],
   "source": [
    "# loop over the input images\n",
    "for imagePath in imagePaths:\n",
    "        # load the image, pre-process it, and store it in the data list\n",
    "        image = cv2.imread(imagePath)\n",
    "        image = cv2.resize(image, (480, 270))\n",
    "        image = img_to_array(image)\n",
    "        data.append(image)\n",
    "\n",
    "        # extract the class label from the image path and update the\n",
    "        # labels list\n",
    "        label = imagePath.split(os.path.sep)[-2]\n",
    "        label = 1 if label == \"real\" else 0\n",
    "        labels.append(label)"
   ]
  },
  {
   "cell_type": "code",
   "execution_count": 6,
   "metadata": {},
   "outputs": [
    {
     "data": {
      "text/plain": [
       "48"
      ]
     },
     "execution_count": 6,
     "metadata": {},
     "output_type": "execute_result"
    }
   ],
   "source": [
    "len(data)"
   ]
  },
  {
   "cell_type": "code",
   "execution_count": 7,
   "metadata": {},
   "outputs": [],
   "source": [
    "# scale the raw pixel intensities to the range [0, 1]\n",
    "data = np.array(data, dtype=\"float\") / 255.0\n",
    "labels = np.array(labels)"
   ]
  },
  {
   "cell_type": "code",
   "execution_count": 8,
   "metadata": {},
   "outputs": [],
   "source": [
    "# partition the data into training and testing splits using 75% of\n",
    "# the data for training and the remaining 25% for testing\n",
    "(trainX, testX, trainY, testY) = train_test_split(data,\n",
    "        labels, test_size=0.25, random_state=42)"
   ]
  },
  {
   "cell_type": "code",
   "execution_count": 9,
   "metadata": {},
   "outputs": [],
   "source": [
    "# convert the labels from integers to vectors\n",
    "trainY = to_categorical(trainY, num_classes=2)\n",
    "testY = to_categorical(testY, num_classes=2)"
   ]
  },
  {
   "cell_type": "code",
   "execution_count": 10,
   "metadata": {},
   "outputs": [],
   "source": [
    "# construct the image generator for data augmentation\n",
    "aug = ImageDataGenerator(rotation_range=30, width_shift_range=0.1,\n",
    "        height_shift_range=0.1, shear_range=0.2, zoom_range=0.2,\n",
    "        horizontal_flip=True, fill_mode=\"nearest\")"
   ]
  },
  {
   "cell_type": "code",
   "execution_count": 11,
   "metadata": {},
   "outputs": [
    {
     "name": "stdout",
     "output_type": "stream",
     "text": [
      "[INFO] compiling model...\n"
     ]
    }
   ],
   "source": [
    "# initialize the model\n",
    "print(\"[INFO] compiling model...\")\n",
    "model = LeNet.build(width=480, height=270, depth=3, classes=2)\n",
    "opt = Adam(lr=INIT_LR, decay=INIT_LR / EPOCHS)\n",
    "model.compile(loss=\"binary_crossentropy\", optimizer=opt,\n",
    "        metrics=[\"accuracy\"])"
   ]
  },
  {
   "cell_type": "code",
   "execution_count": 12,
   "metadata": {},
   "outputs": [
    {
     "name": "stdout",
     "output_type": "stream",
     "text": [
      "[INFO] training network...\n",
      "Epoch 1/25\n",
      "2/2 [==============================] - 20s 10s/step - loss: 5.4812 - accuracy: 0.2500 - val_loss: 8.9711 - val_accuracy: 0.4167\n",
      "Epoch 2/25\n",
      "2/2 [==============================] - 15s 7s/step - loss: 7.2623 - accuracy: 0.5278 - val_loss: 8.9711 - val_accuracy: 0.4167\n",
      "Epoch 3/25\n",
      "2/2 [==============================] - 15s 7s/step - loss: 7.2623 - accuracy: 0.5278 - val_loss: 8.9711 - val_accuracy: 0.4167\n",
      "Epoch 4/25\n",
      "2/2 [==============================] - 15s 7s/step - loss: 7.2623 - accuracy: 0.5278 - val_loss: 8.9711 - val_accuracy: 0.4167\n",
      "Epoch 5/25\n",
      "2/2 [==============================] - 15s 7s/step - loss: 7.2623 - accuracy: 0.5278 - val_loss: 8.9711 - val_accuracy: 0.4167\n",
      "Epoch 6/25\n",
      "2/2 [==============================] - 14s 7s/step - loss: 7.2623 - accuracy: 0.5278 - val_loss: 8.9711 - val_accuracy: 0.4167\n",
      "Epoch 7/25\n",
      "2/2 [==============================] - 14s 7s/step - loss: 7.2623 - accuracy: 0.5278 - val_loss: 8.9711 - val_accuracy: 0.4167\n",
      "Epoch 8/25\n",
      "2/2 [==============================] - 14s 7s/step - loss: 7.2623 - accuracy: 0.5278 - val_loss: 8.9711 - val_accuracy: 0.4167\n",
      "Epoch 9/25\n",
      "2/2 [==============================] - 14s 7s/step - loss: 7.2623 - accuracy: 0.5278 - val_loss: 8.9711 - val_accuracy: 0.4167\n",
      "Epoch 10/25\n",
      "2/2 [==============================] - 16s 8s/step - loss: 7.2623 - accuracy: 0.5278 - val_loss: 8.9711 - val_accuracy: 0.4167\n",
      "Epoch 11/25\n",
      "2/2 [==============================] - 20s 10s/step - loss: 7.2623 - accuracy: 0.5278 - val_loss: 8.9711 - val_accuracy: 0.4167\n",
      "Epoch 12/25\n",
      "2/2 [==============================] - 20s 10s/step - loss: 7.2623 - accuracy: 0.5278 - val_loss: 8.9711 - val_accuracy: 0.4167\n",
      "Epoch 13/25\n",
      "2/2 [==============================] - 19s 9s/step - loss: 7.2623 - accuracy: 0.5278 - val_loss: 8.9711 - val_accuracy: 0.4167\n",
      "Epoch 14/25\n",
      "2/2 [==============================] - 20s 10s/step - loss: 7.2623 - accuracy: 0.5278 - val_loss: 8.9711 - val_accuracy: 0.4167\n",
      "Epoch 15/25\n",
      "2/2 [==============================] - 23s 12s/step - loss: 7.2623 - accuracy: 0.5278 - val_loss: 8.9711 - val_accuracy: 0.4167\n",
      "Epoch 16/25\n",
      "2/2 [==============================] - 28s 14s/step - loss: 7.2623 - accuracy: 0.5278 - val_loss: 8.9711 - val_accuracy: 0.4167\n",
      "Epoch 17/25\n",
      "2/2 [==============================] - 14s 7s/step - loss: 7.2623 - accuracy: 0.5278 - val_loss: 8.9711 - val_accuracy: 0.4167\n",
      "Epoch 18/25\n",
      "2/2 [==============================] - 13s 7s/step - loss: 7.2623 - accuracy: 0.5278 - val_loss: 8.9711 - val_accuracy: 0.4167\n",
      "Epoch 19/25\n",
      "2/2 [==============================] - 13s 7s/step - loss: 7.2623 - accuracy: 0.5278 - val_loss: 8.9711 - val_accuracy: 0.4167\n",
      "Epoch 20/25\n",
      "2/2 [==============================] - 14s 7s/step - loss: 7.2623 - accuracy: 0.5278 - val_loss: 8.9711 - val_accuracy: 0.4167\n",
      "Epoch 21/25\n",
      "2/2 [==============================] - 14s 7s/step - loss: 7.2623 - accuracy: 0.5278 - val_loss: 8.9711 - val_accuracy: 0.4167\n",
      "Epoch 22/25\n",
      "2/2 [==============================] - 14s 7s/step - loss: 7.2623 - accuracy: 0.5278 - val_loss: 8.9711 - val_accuracy: 0.4167\n",
      "Epoch 23/25\n",
      "2/2 [==============================] - 14s 7s/step - loss: 7.2623 - accuracy: 0.5278 - val_loss: 8.9711 - val_accuracy: 0.4167\n",
      "Epoch 24/25\n",
      "2/2 [==============================] - 13s 7s/step - loss: 7.2623 - accuracy: 0.5278 - val_loss: 8.9711 - val_accuracy: 0.4167\n",
      "Epoch 25/25\n",
      "2/2 [==============================] - 13s 7s/step - loss: 7.2623 - accuracy: 0.5278 - val_loss: 8.9711 - val_accuracy: 0.4167\n"
     ]
    }
   ],
   "source": [
    "# train the network\n",
    "print(\"[INFO] training network...\")\n",
    "H = model.fit_generator(aug.flow(trainX, trainY, batch_size=BS),\n",
    "        validation_data=(testX, testY), steps_per_epoch=len(trainX) // BS,\n",
    "        epochs=EPOCHS, verbose=1)"
   ]
  },
  {
   "cell_type": "code",
   "execution_count": 13,
   "metadata": {},
   "outputs": [
    {
     "name": "stdout",
     "output_type": "stream",
     "text": [
      "[INFO] serializing network...\n"
     ]
    }
   ],
   "source": [
    "# save the model to disk\n",
    "print(\"[INFO] serializing network...\")\n",
    "model.save(\"real_fake.model\")"
   ]
  },
  {
   "cell_type": "code",
   "execution_count": 14,
   "metadata": {},
   "outputs": [
    {
     "data": {
      "text/plain": [
       "{'val_loss': [8.971138000488281,\n",
       "  8.971138000488281,\n",
       "  8.971138000488281,\n",
       "  8.971138000488281,\n",
       "  8.971138000488281,\n",
       "  8.971138000488281,\n",
       "  8.971138000488281,\n",
       "  8.971138000488281,\n",
       "  8.971138000488281,\n",
       "  8.971138000488281,\n",
       "  8.971138000488281,\n",
       "  8.971138000488281,\n",
       "  8.971138000488281,\n",
       "  8.971138000488281,\n",
       "  8.971138000488281,\n",
       "  8.971138000488281,\n",
       "  8.971138000488281,\n",
       "  8.971138000488281,\n",
       "  8.971138000488281,\n",
       "  8.971138000488281,\n",
       "  8.971138000488281,\n",
       "  8.971138000488281,\n",
       "  8.971138000488281,\n",
       "  8.971138000488281,\n",
       "  8.971138000488281],\n",
       " 'val_accuracy': [0.4166666567325592,\n",
       "  0.4166666567325592,\n",
       "  0.4166666567325592,\n",
       "  0.4166666567325592,\n",
       "  0.4166666567325592,\n",
       "  0.4166666567325592,\n",
       "  0.4166666567325592,\n",
       "  0.4166666567325592,\n",
       "  0.4166666567325592,\n",
       "  0.4166666567325592,\n",
       "  0.4166666567325592,\n",
       "  0.4166666567325592,\n",
       "  0.4166666567325592,\n",
       "  0.4166666567325592,\n",
       "  0.4166666567325592,\n",
       "  0.4166666567325592,\n",
       "  0.4166666567325592,\n",
       "  0.4166666567325592,\n",
       "  0.4166666567325592,\n",
       "  0.4166666567325592,\n",
       "  0.4166666567325592,\n",
       "  0.4166666567325592,\n",
       "  0.4166666567325592,\n",
       "  0.4166666567325592,\n",
       "  0.4166666567325592],\n",
       " 'loss': [5.481223613023758,\n",
       "  7.262349367141724,\n",
       "  7.262349843978882,\n",
       "  7.262348890304565,\n",
       "  7.262349605560303,\n",
       "  7.262349605560303,\n",
       "  7.2623491287231445,\n",
       "  7.262349605560303,\n",
       "  7.262349605560303,\n",
       "  7.2623491287231445,\n",
       "  7.262349605560303,\n",
       "  7.262349367141724,\n",
       "  7.262349605560303,\n",
       "  7.262349605560303,\n",
       "  7.262349605560303,\n",
       "  7.262349605560303,\n",
       "  7.262349605560303,\n",
       "  7.262349605560303,\n",
       "  7.262349605560303,\n",
       "  7.2623491287231445,\n",
       "  7.262349605560303,\n",
       "  7.2623491287231445,\n",
       "  7.262349605560303,\n",
       "  7.262349605560303,\n",
       "  7.262349605560303],\n",
       " 'accuracy': [0.25,\n",
       "  0.5277778,\n",
       "  0.5277778,\n",
       "  0.5277778,\n",
       "  0.5277778,\n",
       "  0.5277778,\n",
       "  0.5277778,\n",
       "  0.5277778,\n",
       "  0.5277778,\n",
       "  0.5277778,\n",
       "  0.5277778,\n",
       "  0.5277778,\n",
       "  0.5277778,\n",
       "  0.5277778,\n",
       "  0.5277778,\n",
       "  0.5277778,\n",
       "  0.5277778,\n",
       "  0.5277778,\n",
       "  0.5277778,\n",
       "  0.5277778,\n",
       "  0.5277778,\n",
       "  0.5277778,\n",
       "  0.5277778,\n",
       "  0.5277778,\n",
       "  0.5277778]}"
      ]
     },
     "execution_count": 14,
     "metadata": {},
     "output_type": "execute_result"
    }
   ],
   "source": [
    "H.history"
   ]
  },
  {
   "cell_type": "code",
   "execution_count": null,
   "metadata": {},
   "outputs": [],
   "source": []
  },
  {
   "cell_type": "code",
   "execution_count": 15,
   "metadata": {},
   "outputs": [],
   "source": [
    "# plot the training loss and accuracy\n",
    "plt.style.use(\"ggplot\")\n",
    "plt.figure()\n",
    "N = EPOCHS\n",
    "plt.plot(np.arange(0, N), H.history[\"loss\"], label=\"train_loss\")\n",
    "plt.plot(np.arange(0, N), H.history[\"val_loss\"], label=\"val_loss\")\n",
    "plt.plot(np.arange(0, N), H.history[\"accuracy\"], label=\"train_acc\")\n",
    "plt.plot(np.arange(0, N), H.history[\"val_accuracy\"], label=\"val_acc\")\n",
    "plt.title(\"Training Loss and Accuracy on real/fake\")\n",
    "plt.xlabel(\"Epoch #\")\n",
    "plt.ylabel(\"Loss/Accuracy\")\n",
    "plt.legend(loc=\"lower left\")\n",
    "plt.savefig(\"model_evaluation.jpg\")"
   ]
  },
  {
   "cell_type": "code",
   "execution_count": null,
   "metadata": {},
   "outputs": [],
   "source": []
  },
  {
   "cell_type": "code",
   "execution_count": null,
   "metadata": {},
   "outputs": [],
   "source": []
  },
  {
   "cell_type": "code",
   "execution_count": null,
   "metadata": {},
   "outputs": [],
   "source": []
  }
 ],
 "metadata": {
  "kernelspec": {
   "display_name": "Python 3",
   "language": "python",
   "name": "python3"
  },
  "language_info": {
   "codemirror_mode": {
    "name": "ipython",
    "version": 3
   },
   "file_extension": ".py",
   "mimetype": "text/x-python",
   "name": "python",
   "nbconvert_exporter": "python",
   "pygments_lexer": "ipython3",
   "version": "3.7.4"
  }
 },
 "nbformat": 4,
 "nbformat_minor": 4
}
