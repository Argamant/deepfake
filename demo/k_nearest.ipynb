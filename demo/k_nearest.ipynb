{
 "cells": [
  {
   "cell_type": "code",
   "execution_count": 1,
   "metadata": {},
   "outputs": [],
   "source": [
    "import numpy as np\n",
    "import pylab as pl\n",
    "import pandas as pd\n",
    "from sklearn.cluster import KMeans \n",
    "from sklearn import preprocessing\n",
    "from sklearn import metrics\n",
    "\n",
    "\n",
    "test_real = pd.read_csv('test_real.csv', sep = ',', header = None)\n",
    "test_fake = pd.read_csv('test_fake.csv', sep = ',', header = None)\n",
    "train_real = pd.read_csv('train_real.csv', sep = ',', header = None)\n",
    "train_fake = pd.read_csv('train_fake.csv', sep = ',', header = None)\n",
    "validation_real =  pd.read_csv('validation_real.csv', sep = ',', header = None)\n",
    "validation_fake =  pd.read_csv('validation_fake.csv', sep = ',', header = None)\n"
   ]
  },
  {
   "cell_type": "code",
   "execution_count": 3,
   "metadata": {},
   "outputs": [],
   "source": [
    "is_fake = np.zeros((test_real.shape[0],1))\n",
    "test_real['is_fake'] = is_fake\n",
    "\n",
    "is_fake = np.zeros((train_real.shape[0],1))\n",
    "train_real['is_fake'] = is_fake\n",
    "\n",
    "is_fake = np.zeros((validation_real.shape[0],1))\n",
    "validation_real['is_fake'] = is_fake\n",
    "\n",
    "is_fake = np.ones((test_fake.shape[0],1))\n",
    "test_fake['is_fake'] = is_fake\n",
    "\n",
    "is_fake = np.ones((train_fake.shape[0],1))\n",
    "train_fake['is_fake'] = is_fake\n",
    "\n",
    "is_fake = np.ones((validation_fake.shape[0],1))\n",
    "validation_fake['is_fake'] = is_fake\n"
   ]
  },
  {
   "cell_type": "code",
   "execution_count": null,
   "metadata": {},
   "outputs": [],
   "source": [
    "test_real = data.to_numpy()\n",
    "classes_arr = classes[1].to_numpy()"
   ]
  },
  {
   "cell_type": "code",
   "execution_count": null,
   "metadata": {},
   "outputs": [],
   "source": [
    "scaler = preprocessing.MinMaxScaler()\n",
    "scaler.fit(data_arr)\n",
    "data_arr = scaler.transform(data_arr)\n",
    "data_arr"
   ]
  },
  {
   "cell_type": "code",
   "execution_count": null,
   "metadata": {},
   "outputs": [],
   "source": [
    "kmeans = KMeans(n_clusters= 7, random_state = 0).fit(data_arr)\n",
    "clusters = kmeans.predict(data)\n",
    "kmeans.labels_"
   ]
  },
  {
   "cell_type": "code",
   "execution_count": null,
   "metadata": {},
   "outputs": [],
   "source": [
    "kmeans.cluster_centers_.shape"
   ]
  },
  {
   "cell_type": "code",
   "execution_count": null,
   "metadata": {},
   "outputs": [],
   "source": [
    "np.set_printoptions(precision=3)\n",
    "\n",
    "pd.set_option('precision',2)\n",
    "pretty_clusters = pd.DataFrame(kmeans.cluster_centers_, index = ['Centroid 1','Centroid 2','Centroid 3','Centroid 4','Centroid 5','Centroid 6','Centroid 7',])\n",
    "print(pretty_clusters)\n",
    "\n",
    "pd.reset_option('precision')\n"
   ]
  },
  {
   "cell_type": "code",
   "execution_count": null,
   "metadata": {},
   "outputs": [],
   "source": []
  }
 ],
 "metadata": {
  "kernelspec": {
   "display_name": "Python 3",
   "language": "python",
   "name": "python3"
  },
  "language_info": {
   "codemirror_mode": {
    "name": "ipython",
    "version": 3
   },
   "file_extension": ".py",
   "mimetype": "text/x-python",
   "name": "python",
   "nbconvert_exporter": "python",
   "pygments_lexer": "ipython3",
   "version": "3.7.6"
  }
 },
 "nbformat": 4,
 "nbformat_minor": 4
}
