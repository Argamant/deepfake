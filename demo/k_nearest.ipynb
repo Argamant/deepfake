{
 "cells": [
  {
   "cell_type": "code",
   "execution_count": 94,
   "metadata": {},
   "outputs": [],
   "source": [
    "import numpy as np\n",
    "import pylab as pl\n",
    "import pandas as pd\n",
    "from sklearn.cluster import KMeans \n",
    "from sklearn import preprocessing\n",
    "from sklearn import metrics\n",
    "\n",
    "\n",
    "test_real = pd.read_csv('test_real.csv', sep = ',')\n",
    "test_fake = pd.read_csv('test_fake.csv', sep = ',')\n",
    "train_real = pd.read_csv('train_real.csv', sep = ',')\n",
    "train_fake = pd.read_csv('train_fake.csv', sep = ',')\n",
    "validation_real =  pd.read_csv('validation_real.csv', sep = ',')\n",
    "validation_fake =  pd.read_csv('validation_fake.csv', sep = ',')\n"
   ]
  },
  {
   "cell_type": "code",
   "execution_count": 95,
   "metadata": {},
   "outputs": [
    {
     "data": {
      "text/html": [
       "<div>\n",
       "<style scoped>\n",
       "    .dataframe tbody tr th:only-of-type {\n",
       "        vertical-align: middle;\n",
       "    }\n",
       "\n",
       "    .dataframe tbody tr th {\n",
       "        vertical-align: top;\n",
       "    }\n",
       "\n",
       "    .dataframe thead th {\n",
       "        text-align: right;\n",
       "    }\n",
       "</style>\n",
       "<table border=\"1\" class=\"dataframe\">\n",
       "  <thead>\n",
       "    <tr style=\"text-align: right;\">\n",
       "      <th></th>\n",
       "      <th>Unnamed: 0</th>\n",
       "      <th>0</th>\n",
       "      <th>1</th>\n",
       "      <th>2</th>\n",
       "      <th>3</th>\n",
       "      <th>4</th>\n",
       "      <th>5</th>\n",
       "      <th>6</th>\n",
       "      <th>7</th>\n",
       "      <th>8</th>\n",
       "      <th>...</th>\n",
       "      <th>4086</th>\n",
       "      <th>4087</th>\n",
       "      <th>4088</th>\n",
       "      <th>4089</th>\n",
       "      <th>4090</th>\n",
       "      <th>4091</th>\n",
       "      <th>4092</th>\n",
       "      <th>4093</th>\n",
       "      <th>4094</th>\n",
       "      <th>4095</th>\n",
       "    </tr>\n",
       "  </thead>\n",
       "  <tbody>\n",
       "    <tr>\n",
       "      <th>0</th>\n",
       "      <td>0</td>\n",
       "      <td>0.0</td>\n",
       "      <td>0.0</td>\n",
       "      <td>0.0</td>\n",
       "      <td>0.041396</td>\n",
       "      <td>0.0</td>\n",
       "      <td>0.0</td>\n",
       "      <td>0.000000</td>\n",
       "      <td>0.0</td>\n",
       "      <td>1.405248</td>\n",
       "      <td>...</td>\n",
       "      <td>0.0</td>\n",
       "      <td>0.486358</td>\n",
       "      <td>0.0</td>\n",
       "      <td>1.632487</td>\n",
       "      <td>0.227844</td>\n",
       "      <td>0.0</td>\n",
       "      <td>0.0</td>\n",
       "      <td>0.0</td>\n",
       "      <td>0.0</td>\n",
       "      <td>0.0</td>\n",
       "    </tr>\n",
       "    <tr>\n",
       "      <th>1</th>\n",
       "      <td>1</td>\n",
       "      <td>0.0</td>\n",
       "      <td>0.0</td>\n",
       "      <td>0.0</td>\n",
       "      <td>0.054321</td>\n",
       "      <td>0.0</td>\n",
       "      <td>0.0</td>\n",
       "      <td>0.000000</td>\n",
       "      <td>0.0</td>\n",
       "      <td>1.655350</td>\n",
       "      <td>...</td>\n",
       "      <td>0.0</td>\n",
       "      <td>0.235179</td>\n",
       "      <td>0.0</td>\n",
       "      <td>1.995751</td>\n",
       "      <td>0.135866</td>\n",
       "      <td>0.0</td>\n",
       "      <td>0.0</td>\n",
       "      <td>0.0</td>\n",
       "      <td>0.0</td>\n",
       "      <td>0.0</td>\n",
       "    </tr>\n",
       "    <tr>\n",
       "      <th>2</th>\n",
       "      <td>2</td>\n",
       "      <td>0.0</td>\n",
       "      <td>0.0</td>\n",
       "      <td>0.0</td>\n",
       "      <td>0.303139</td>\n",
       "      <td>0.0</td>\n",
       "      <td>0.0</td>\n",
       "      <td>0.000000</td>\n",
       "      <td>0.0</td>\n",
       "      <td>1.405931</td>\n",
       "      <td>...</td>\n",
       "      <td>0.0</td>\n",
       "      <td>0.229163</td>\n",
       "      <td>0.0</td>\n",
       "      <td>2.867099</td>\n",
       "      <td>0.281707</td>\n",
       "      <td>0.0</td>\n",
       "      <td>0.0</td>\n",
       "      <td>0.0</td>\n",
       "      <td>0.0</td>\n",
       "      <td>0.0</td>\n",
       "    </tr>\n",
       "    <tr>\n",
       "      <th>3</th>\n",
       "      <td>3</td>\n",
       "      <td>0.0</td>\n",
       "      <td>0.0</td>\n",
       "      <td>0.0</td>\n",
       "      <td>0.000000</td>\n",
       "      <td>0.0</td>\n",
       "      <td>0.0</td>\n",
       "      <td>0.000000</td>\n",
       "      <td>0.0</td>\n",
       "      <td>3.031069</td>\n",
       "      <td>...</td>\n",
       "      <td>0.0</td>\n",
       "      <td>0.000000</td>\n",
       "      <td>0.0</td>\n",
       "      <td>2.490180</td>\n",
       "      <td>1.227384</td>\n",
       "      <td>0.0</td>\n",
       "      <td>0.0</td>\n",
       "      <td>0.0</td>\n",
       "      <td>0.0</td>\n",
       "      <td>0.0</td>\n",
       "    </tr>\n",
       "    <tr>\n",
       "      <th>4</th>\n",
       "      <td>4</td>\n",
       "      <td>0.0</td>\n",
       "      <td>0.0</td>\n",
       "      <td>0.0</td>\n",
       "      <td>0.486745</td>\n",
       "      <td>0.0</td>\n",
       "      <td>0.0</td>\n",
       "      <td>0.757536</td>\n",
       "      <td>0.0</td>\n",
       "      <td>2.236415</td>\n",
       "      <td>...</td>\n",
       "      <td>0.0</td>\n",
       "      <td>0.024444</td>\n",
       "      <td>0.0</td>\n",
       "      <td>2.224182</td>\n",
       "      <td>1.301282</td>\n",
       "      <td>0.0</td>\n",
       "      <td>0.0</td>\n",
       "      <td>0.0</td>\n",
       "      <td>0.0</td>\n",
       "      <td>0.0</td>\n",
       "    </tr>\n",
       "  </tbody>\n",
       "</table>\n",
       "<p>5 rows × 4097 columns</p>\n",
       "</div>"
      ],
      "text/plain": [
       "   Unnamed: 0    0    1    2         3    4    5         6    7         8  \\\n",
       "0           0  0.0  0.0  0.0  0.041396  0.0  0.0  0.000000  0.0  1.405248   \n",
       "1           1  0.0  0.0  0.0  0.054321  0.0  0.0  0.000000  0.0  1.655350   \n",
       "2           2  0.0  0.0  0.0  0.303139  0.0  0.0  0.000000  0.0  1.405931   \n",
       "3           3  0.0  0.0  0.0  0.000000  0.0  0.0  0.000000  0.0  3.031069   \n",
       "4           4  0.0  0.0  0.0  0.486745  0.0  0.0  0.757536  0.0  2.236415   \n",
       "\n",
       "   ...  4086      4087  4088      4089      4090  4091  4092  4093  4094  4095  \n",
       "0  ...   0.0  0.486358   0.0  1.632487  0.227844   0.0   0.0   0.0   0.0   0.0  \n",
       "1  ...   0.0  0.235179   0.0  1.995751  0.135866   0.0   0.0   0.0   0.0   0.0  \n",
       "2  ...   0.0  0.229163   0.0  2.867099  0.281707   0.0   0.0   0.0   0.0   0.0  \n",
       "3  ...   0.0  0.000000   0.0  2.490180  1.227384   0.0   0.0   0.0   0.0   0.0  \n",
       "4  ...   0.0  0.024444   0.0  2.224182  1.301282   0.0   0.0   0.0   0.0   0.0  \n",
       "\n",
       "[5 rows x 4097 columns]"
      ]
     },
     "execution_count": 95,
     "metadata": {},
     "output_type": "execute_result"
    }
   ],
   "source": [
    "#test_real = test_real.loc[:, ~test_real.columns.str.contains('^Unnamed')]\n",
    "#test_fake = test_fake.loc[:, ~test_fake.columns.str.contains('^Unnamed')]\n",
    "\n",
    "test_real.head()"
   ]
  },
  {
   "cell_type": "code",
   "execution_count": 96,
   "metadata": {},
   "outputs": [
    {
     "data": {
      "text/html": [
       "<div>\n",
       "<style scoped>\n",
       "    .dataframe tbody tr th:only-of-type {\n",
       "        vertical-align: middle;\n",
       "    }\n",
       "\n",
       "    .dataframe tbody tr th {\n",
       "        vertical-align: top;\n",
       "    }\n",
       "\n",
       "    .dataframe thead th {\n",
       "        text-align: right;\n",
       "    }\n",
       "</style>\n",
       "<table border=\"1\" class=\"dataframe\">\n",
       "  <thead>\n",
       "    <tr style=\"text-align: right;\">\n",
       "      <th></th>\n",
       "      <th>Unnamed: 0</th>\n",
       "      <th>0</th>\n",
       "      <th>1</th>\n",
       "      <th>2</th>\n",
       "      <th>3</th>\n",
       "      <th>4</th>\n",
       "      <th>5</th>\n",
       "      <th>6</th>\n",
       "      <th>7</th>\n",
       "      <th>8</th>\n",
       "      <th>...</th>\n",
       "      <th>4086</th>\n",
       "      <th>4087</th>\n",
       "      <th>4088</th>\n",
       "      <th>4089</th>\n",
       "      <th>4090</th>\n",
       "      <th>4091</th>\n",
       "      <th>4092</th>\n",
       "      <th>4093</th>\n",
       "      <th>4094</th>\n",
       "      <th>4095</th>\n",
       "    </tr>\n",
       "  </thead>\n",
       "  <tbody>\n",
       "    <tr>\n",
       "      <th>0</th>\n",
       "      <td>0</td>\n",
       "      <td>0.000000</td>\n",
       "      <td>0.0</td>\n",
       "      <td>0.000000</td>\n",
       "      <td>0.0</td>\n",
       "      <td>0.0</td>\n",
       "      <td>0.0</td>\n",
       "      <td>0.000000</td>\n",
       "      <td>0.0</td>\n",
       "      <td>3.288760</td>\n",
       "      <td>...</td>\n",
       "      <td>0.0</td>\n",
       "      <td>0.00000</td>\n",
       "      <td>0.0</td>\n",
       "      <td>0.000000</td>\n",
       "      <td>0.000000</td>\n",
       "      <td>0.321906</td>\n",
       "      <td>0.000000</td>\n",
       "      <td>0.000000</td>\n",
       "      <td>0.0</td>\n",
       "      <td>1.105695</td>\n",
       "    </tr>\n",
       "    <tr>\n",
       "      <th>1</th>\n",
       "      <td>1</td>\n",
       "      <td>1.830697</td>\n",
       "      <td>0.0</td>\n",
       "      <td>0.125534</td>\n",
       "      <td>0.0</td>\n",
       "      <td>0.0</td>\n",
       "      <td>0.0</td>\n",
       "      <td>2.976359</td>\n",
       "      <td>0.0</td>\n",
       "      <td>0.716824</td>\n",
       "      <td>...</td>\n",
       "      <td>0.0</td>\n",
       "      <td>0.00000</td>\n",
       "      <td>0.0</td>\n",
       "      <td>1.922979</td>\n",
       "      <td>1.281085</td>\n",
       "      <td>0.935895</td>\n",
       "      <td>2.031592</td>\n",
       "      <td>4.521828</td>\n",
       "      <td>0.0</td>\n",
       "      <td>2.858896</td>\n",
       "    </tr>\n",
       "    <tr>\n",
       "      <th>2</th>\n",
       "      <td>2</td>\n",
       "      <td>0.459322</td>\n",
       "      <td>0.0</td>\n",
       "      <td>0.555405</td>\n",
       "      <td>0.0</td>\n",
       "      <td>0.0</td>\n",
       "      <td>0.0</td>\n",
       "      <td>1.951774</td>\n",
       "      <td>0.0</td>\n",
       "      <td>1.326643</td>\n",
       "      <td>...</td>\n",
       "      <td>0.0</td>\n",
       "      <td>0.00000</td>\n",
       "      <td>0.0</td>\n",
       "      <td>1.821688</td>\n",
       "      <td>1.493509</td>\n",
       "      <td>0.535573</td>\n",
       "      <td>1.671195</td>\n",
       "      <td>2.100767</td>\n",
       "      <td>0.0</td>\n",
       "      <td>3.138496</td>\n",
       "    </tr>\n",
       "    <tr>\n",
       "      <th>3</th>\n",
       "      <td>3</td>\n",
       "      <td>1.855711</td>\n",
       "      <td>0.0</td>\n",
       "      <td>1.040388</td>\n",
       "      <td>0.0</td>\n",
       "      <td>0.0</td>\n",
       "      <td>0.0</td>\n",
       "      <td>3.268197</td>\n",
       "      <td>0.0</td>\n",
       "      <td>1.491390</td>\n",
       "      <td>...</td>\n",
       "      <td>0.0</td>\n",
       "      <td>0.27282</td>\n",
       "      <td>0.0</td>\n",
       "      <td>2.397863</td>\n",
       "      <td>1.068802</td>\n",
       "      <td>0.436531</td>\n",
       "      <td>1.450065</td>\n",
       "      <td>3.064227</td>\n",
       "      <td>0.0</td>\n",
       "      <td>4.000470</td>\n",
       "    </tr>\n",
       "    <tr>\n",
       "      <th>4</th>\n",
       "      <td>4</td>\n",
       "      <td>0.000000</td>\n",
       "      <td>0.0</td>\n",
       "      <td>0.000000</td>\n",
       "      <td>0.0</td>\n",
       "      <td>0.0</td>\n",
       "      <td>0.0</td>\n",
       "      <td>0.000000</td>\n",
       "      <td>0.0</td>\n",
       "      <td>2.048402</td>\n",
       "      <td>...</td>\n",
       "      <td>0.0</td>\n",
       "      <td>0.00000</td>\n",
       "      <td>0.0</td>\n",
       "      <td>0.010300</td>\n",
       "      <td>0.000000</td>\n",
       "      <td>0.020155</td>\n",
       "      <td>0.000000</td>\n",
       "      <td>0.000000</td>\n",
       "      <td>0.0</td>\n",
       "      <td>1.528414</td>\n",
       "    </tr>\n",
       "  </tbody>\n",
       "</table>\n",
       "<p>5 rows × 4097 columns</p>\n",
       "</div>"
      ],
      "text/plain": [
       "   Unnamed: 0         0    1         2    3    4    5         6    7  \\\n",
       "0           0  0.000000  0.0  0.000000  0.0  0.0  0.0  0.000000  0.0   \n",
       "1           1  1.830697  0.0  0.125534  0.0  0.0  0.0  2.976359  0.0   \n",
       "2           2  0.459322  0.0  0.555405  0.0  0.0  0.0  1.951774  0.0   \n",
       "3           3  1.855711  0.0  1.040388  0.0  0.0  0.0  3.268197  0.0   \n",
       "4           4  0.000000  0.0  0.000000  0.0  0.0  0.0  0.000000  0.0   \n",
       "\n",
       "          8  ...  4086     4087  4088      4089      4090      4091      4092  \\\n",
       "0  3.288760  ...   0.0  0.00000   0.0  0.000000  0.000000  0.321906  0.000000   \n",
       "1  0.716824  ...   0.0  0.00000   0.0  1.922979  1.281085  0.935895  2.031592   \n",
       "2  1.326643  ...   0.0  0.00000   0.0  1.821688  1.493509  0.535573  1.671195   \n",
       "3  1.491390  ...   0.0  0.27282   0.0  2.397863  1.068802  0.436531  1.450065   \n",
       "4  2.048402  ...   0.0  0.00000   0.0  0.010300  0.000000  0.020155  0.000000   \n",
       "\n",
       "       4093  4094      4095  \n",
       "0  0.000000   0.0  1.105695  \n",
       "1  4.521828   0.0  2.858896  \n",
       "2  2.100767   0.0  3.138496  \n",
       "3  3.064227   0.0  4.000470  \n",
       "4  0.000000   0.0  1.528414  \n",
       "\n",
       "[5 rows x 4097 columns]"
      ]
     },
     "execution_count": 96,
     "metadata": {},
     "output_type": "execute_result"
    }
   ],
   "source": [
    "test_fake.head()"
   ]
  },
  {
   "cell_type": "code",
   "execution_count": 97,
   "metadata": {},
   "outputs": [],
   "source": [
    "# add the labels to the dataset. is_fake = \n",
    "\n",
    "is_fake = np.zeros((test_real.shape[0],1))\n",
    "test_real['is_fake'] = is_fake\n",
    "\n",
    "is_fake = np.zeros((train_real.shape[0],1))\n",
    "train_real['is_fake'] = is_fake\n",
    "\n",
    "is_fake = np.zeros((validation_real.shape[0],1))\n",
    "validation_real['is_fake'] = is_fake\n",
    "\n",
    "is_fake = np.ones((test_fake.shape[0],1))\n",
    "test_fake['is_fake'] = is_fake\n",
    "\n",
    "is_fake = np.ones((train_fake.shape[0],1))\n",
    "train_fake['is_fake'] = is_fake\n",
    "\n",
    "is_fake = np.ones((validation_fake.shape[0],1))\n",
    "validation_fake['is_fake'] = is_fake\n"
   ]
  },
  {
   "cell_type": "code",
   "execution_count": 98,
   "metadata": {},
   "outputs": [],
   "source": [
    "# merge the dataframes so that all testing, training and validation data are together \n",
    "\n",
    "training = [train_real, train_fake, validation_fake, validation_real]\n",
    "train_df = pd.concat(training)\n",
    "train_labels = train_df['is_fake']\n",
    "train_df = train_df.drop(labels = ['is_fake'], axis = 1)\n",
    "\n",
    "testing = [test_real, test_fake]\n",
    "test_df = pd.concat(testing)\n",
    "test_labels = test_df['is_fake']\n",
    "test_df = test_df.drop(labels = ['is_fake'], axis = 1)\n",
    "\n",
    "\n",
    "#validate = [validation_fake, validation_real]\n",
    "#validate_df = pd.concat(validate)\n"
   ]
  },
  {
   "cell_type": "code",
   "execution_count": 99,
   "metadata": {},
   "outputs": [
    {
     "data": {
      "text/plain": [
       "(392, 4097)"
      ]
     },
     "execution_count": 99,
     "metadata": {},
     "output_type": "execute_result"
    }
   ],
   "source": [
    "train_df.shape"
   ]
  },
  {
   "cell_type": "code",
   "execution_count": 100,
   "metadata": {},
   "outputs": [],
   "source": [
    "#removing an extra random column from the csv\n",
    "test_df = test_df.loc[:, ~test_df.columns.str.contains('^Unnamed')]\n",
    "train_df = train_df.loc[:, ~train_df.columns.str.contains('^Unnamed')]\n"
   ]
  },
  {
   "cell_type": "code",
   "execution_count": 101,
   "metadata": {},
   "outputs": [
    {
     "data": {
      "text/plain": [
       "0     0.0\n",
       "1     0.0\n",
       "2     0.0\n",
       "3     0.0\n",
       "4     0.0\n",
       "     ... \n",
       "32    1.0\n",
       "33    1.0\n",
       "34    1.0\n",
       "35    1.0\n",
       "36    1.0\n",
       "Name: is_fake, Length: 95, dtype: float64"
      ]
     },
     "execution_count": 101,
     "metadata": {},
     "output_type": "execute_result"
    }
   ],
   "source": [
    "test_labels"
   ]
  },
  {
   "cell_type": "markdown",
   "metadata": {},
   "source": [
    "Since we are using crossvalidation, we merged the validation and training dataframes"
   ]
  },
  {
   "cell_type": "code",
   "execution_count": 109,
   "metadata": {},
   "outputs": [],
   "source": [
    "train_arr = train_df.to_numpy()\n",
    "test_arr = test_df.to_numpy()#classes_arr = classes[1].to_numpy()\n",
    "train_labels_arr = train_labels.to_numpy()\n",
    "test_labels_arr = test_labels.to_numpy()\n"
   ]
  },
  {
   "cell_type": "code",
   "execution_count": 103,
   "metadata": {},
   "outputs": [
    {
     "data": {
      "text/plain": [
       "array([[0.        , 0.        , 0.        , ..., 0.        , 0.        ,\n",
       "        0.06950617],\n",
       "       [0.        , 0.        , 0.        , ..., 0.        , 0.        ,\n",
       "        0.        ],\n",
       "       [0.02102627, 0.        , 0.        , ..., 0.        , 0.        ,\n",
       "        0.47650026],\n",
       "       ...,\n",
       "       [0.        , 0.        , 0.        , ..., 0.        , 0.        ,\n",
       "        0.33401844],\n",
       "       [0.        , 0.        , 0.        , ..., 0.        , 0.        ,\n",
       "        0.05696991],\n",
       "       [0.        , 0.        , 0.        , ..., 0.        , 0.        ,\n",
       "        0.11126459]])"
      ]
     },
     "execution_count": 103,
     "metadata": {},
     "output_type": "execute_result"
    }
   ],
   "source": [
    "scaler = preprocessing.MinMaxScaler()\n",
    "scaler.fit(train_arr)\n",
    "train_arr = scaler.transform(train_arr)\n",
    "train_arr"
   ]
  },
  {
   "cell_type": "code",
   "execution_count": 104,
   "metadata": {},
   "outputs": [
    {
     "data": {
      "text/plain": [
       "array([0, 0, 0, 0, 0, 0, 0, 0, 0, 0, 0, 0, 0, 0, 0, 0, 0, 0, 0, 0, 0, 0,\n",
       "       0, 0, 0, 0, 0, 0, 0, 0, 0, 0, 0, 0, 0, 0, 0, 0, 0, 0, 0, 0, 0, 0,\n",
       "       0, 0, 0, 0, 0, 0, 0, 0, 0, 0, 1, 0, 1, 1, 1, 1, 1, 0, 1, 1, 0, 0,\n",
       "       0, 0, 0, 0, 0, 0, 0, 0, 0, 0, 0, 0, 0, 0, 0, 0, 1, 0, 0, 1, 1, 1,\n",
       "       1, 1, 1, 1, 0, 0, 0, 0, 0, 0, 0, 0, 0, 0, 0, 0, 0, 0, 0, 0, 0, 0,\n",
       "       0, 0, 0, 0, 0, 0, 0, 0, 0, 0, 0, 0, 0, 0, 0, 0, 0, 0, 0, 0, 0, 0,\n",
       "       0, 0, 0, 0, 0, 0, 0, 0, 0, 0, 0, 0, 1, 1, 1, 1, 1, 1, 1, 1, 0, 1,\n",
       "       1, 0, 0, 0, 0, 0, 0, 1, 1, 1, 1, 0, 1, 1, 1, 1, 1, 1, 1, 1, 1, 0,\n",
       "       0, 1, 1, 0, 1, 1, 1, 1, 1, 0, 0, 0, 0, 0, 0, 0, 0, 0, 0, 0, 0, 0,\n",
       "       0, 0, 0, 0, 0, 0, 1, 1, 1, 0, 1, 1, 1, 0, 0, 1, 1, 0, 0, 0, 0, 0,\n",
       "       0, 0, 0, 0, 0, 0, 0, 0, 0, 0, 0, 0, 0, 0, 0, 0, 0, 0, 0, 0, 0, 0,\n",
       "       0, 0, 0, 0, 0, 0, 0, 0, 0, 0, 0, 0, 0, 0, 0, 0, 0, 0, 1, 1, 1, 1,\n",
       "       1, 1, 1, 1, 1, 1, 0, 0, 0, 0, 0, 0, 0, 0, 0, 0, 0, 0, 1, 0, 0, 0,\n",
       "       0, 1, 0, 1, 1, 1, 1, 1, 0, 0, 0, 0, 0, 0, 0, 0, 0, 0, 0, 0, 0, 0,\n",
       "       0, 0, 0, 0, 0, 0, 0, 1, 0, 1, 1, 1, 0, 1, 1, 1, 1, 0, 0, 0, 0, 0,\n",
       "       0, 0, 0, 0, 0, 0, 0, 0, 0, 0, 0, 0, 0, 0, 0, 0, 0, 0, 0, 0, 0, 0,\n",
       "       0, 0, 1, 1, 1, 1, 1, 1, 1, 1, 1, 1, 0, 0, 0, 0, 0, 0, 0, 0, 0, 0,\n",
       "       0, 0, 0, 0, 0, 0, 0, 1, 1, 1, 1, 1, 1, 1, 1, 0, 1, 1])"
      ]
     },
     "execution_count": 104,
     "metadata": {},
     "output_type": "execute_result"
    }
   ],
   "source": [
    "kmeans = KMeans(n_clusters= 2, random_state = 0).fit(train_arr)\n",
    "clusters = kmeans.predict(train_arr)\n",
    "kmeans.labels_"
   ]
  },
  {
   "cell_type": "code",
   "execution_count": 105,
   "metadata": {},
   "outputs": [
    {
     "data": {
      "text/plain": [
       "(2, 4096)"
      ]
     },
     "execution_count": 105,
     "metadata": {},
     "output_type": "execute_result"
    }
   ],
   "source": [
    "kmeans.cluster_centers_.shape"
   ]
  },
  {
   "cell_type": "code",
   "execution_count": 106,
   "metadata": {},
   "outputs": [
    {
     "name": "stdout",
     "output_type": "stream",
     "text": [
      "                0         1         2         3         4         5     6     \\\n",
      "Centroid 1  7.00e-02  1.46e-02  7.37e-02  4.15e-02  4.33e-02  6.99e-02  0.15   \n",
      "Centroid 2 -9.02e-17  2.26e-17  5.18e-03  1.03e-03  4.33e-03 -5.55e-17  0.04   \n",
      "\n",
      "                7     8     9     ...      4086  4087  4088  4089  4090  4091  \\\n",
      "Centroid 1  1.43e-02  0.38  0.10  ...  3.68e-02  0.20  0.12  0.27  0.19  0.14   \n",
      "Centroid 2  2.08e-17  0.45  0.06  ...  3.47e-18  0.01  0.03  0.10  0.14  0.35   \n",
      "\n",
      "                4092      4093      4094  4095  \n",
      "Centroid 1  9.68e-02  7.95e-02  1.80e-02  0.21  \n",
      "Centroid 2  9.71e-17  5.72e-03  2.79e-03  0.17  \n",
      "\n",
      "[2 rows x 4096 columns]\n"
     ]
    }
   ],
   "source": [
    "np.set_printoptions(precision=3)\n",
    "\n",
    "pd.set_option('precision',2)\n",
    "pretty_clusters = pd.DataFrame(kmeans.cluster_centers_, index = ['Centroid 1','Centroid 2'])\n",
    "print(pretty_clusters)\n",
    "\n",
    "pd.reset_option('precision')\n"
   ]
  },
  {
   "cell_type": "code",
   "execution_count": 107,
   "metadata": {},
   "outputs": [
    {
     "name": "stdout",
     "output_type": "stream",
     "text": [
      "Silhouette Values for All Clusters:\n",
      " [ 0.089  0.053  0.061  0.069  0.035  0.079  0.068  0.045 -0.022 -0.031\n",
      "  0.013  0.043  0.038  0.033  0.033  0.007  0.021  0.046  0.041  0.052]\n",
      "\n",
      "Mean Silhouette Value: 0.10614725312750309 \n",
      "\n",
      "\n",
      "\n"
     ]
    }
   ],
   "source": [
    "silhouettes = metrics.silhouette_samples(train_arr, clusters)\n",
    "print(\"Silhouette Values for All Clusters:\\n\", silhouettes[:20])\n",
    "\n",
    "print(\"\\nMean Silhouette Value:\",silhouettes.mean(),'\\n\\n\\n')"
   ]
  },
  {
   "cell_type": "code",
   "execution_count": 108,
   "metadata": {},
   "outputs": [],
   "source": [
    "def plot_silhouettes(data, clusters, metric='euclidean'):\n",
    "    \n",
    "    from matplotlib import cm\n",
    "    from sklearn.metrics import silhouette_samples\n",
    "\n",
    "    cluster_labels = np.unique(clusters)\n",
    "    n_clusters = cluster_labels.shape[0]\n",
    "    silhouette_vals = metrics.silhouette_samples(data, clusters, metric='euclidean')\n",
    "    c_ax_lower, c_ax_upper = 0, 0\n",
    "    cticks = []\n",
    "    for i, k in enumerate(cluster_labels):\n",
    "        c_silhouette_vals = silhouette_vals[clusters == k]\n",
    "        c_silhouette_vals.sort()\n",
    "        c_ax_upper += len(c_silhouette_vals)\n",
    "        color = cm.jet(float(i) / n_clusters)\n",
    "        pl.barh(range(c_ax_lower, c_ax_upper), c_silhouette_vals, height=1.0, \n",
    "                      edgecolor='none', color=color)\n",
    "\n",
    "        cticks.append((c_ax_lower + c_ax_upper) / 2)\n",
    "        c_ax_lower += len(c_silhouette_vals)\n",
    "    \n",
    "    silhouette_avg = np.mean(silhouette_vals)\n",
    "    pl.axvline(silhouette_avg, color=\"red\", linestyle=\"--\") \n",
    "\n",
    "    pl.yticks(cticks, cluster_labels)\n",
    "    pl.ylabel('Cluster')\n",
    "    pl.xlabel('Silhouette coefficient')\n",
    "\n",
    "    pl.tight_layout()\n",
    "    #pl.savefig('images/11_04.png', dpi=300)\n",
    "    pl.show()\n",
    "    \n",
    "    return"
   ]
  },
  {
   "cell_type": "code",
   "execution_count": 111,
   "metadata": {},
   "outputs": [
    {
     "data": {
      "image/png": "[encoded data removed]",
      "text/plain": [
       "<Figure size 432x288 with 1 Axes>"
      ]
     },
     "metadata": {
      "needs_background": "light"
     },
     "output_type": "display_data"
    },
    {
     "name": "stdout",
     "output_type": "stream",
     "text": [
      "Homogeneity \tCompleteness\n",
      "-------------------------------------\n",
      "0.016649644\t0.016649644\n"
     ]
    }
   ],
   "source": [
    "plot_silhouettes(train_arr, clusters)\n",
    "\n",
    "print('Homogeneity \\tCompleteness\\n-------------------------------------')\n",
    "print('{1:.9f}\\t{1:.9f}'.format(metrics.homogeneity_score(train_labels_arr, clusters),metrics.completeness_score(train_labels_arr, clusters)))"
   ]
  },
  {
   "cell_type": "markdown",
   "metadata": {},
   "source": [
    "P"
   ]
  },
  {
   "cell_type": "code",
   "execution_count": 112,
   "metadata": {},
   "outputs": [],
   "source": [
    "from sklearn import decomposition"
   ]
  },
  {
   "cell_type": "code",
   "execution_count": 113,
   "metadata": {},
   "outputs": [],
   "source": [
    "pca = decomposition.PCA(n_components=10)\n",
    "data_PC = pca.fit(train_arr).transform(train_arr)"
   ]
  },
  {
   "cell_type": "code",
   "execution_count": 114,
   "metadata": {},
   "outputs": [
    {
     "data": {
      "text/plain": [
       "(392, 10)"
      ]
     },
     "execution_count": 114,
     "metadata": {},
     "output_type": "execute_result"
    }
   ],
   "source": [
    "data_PC.shape"
   ]
  },
  {
   "cell_type": "code",
   "execution_count": 115,
   "metadata": {},
   "outputs": [
    {
     "name": "stdout",
     "output_type": "stream",
     "text": [
      "[[  2.96  26.79   6.56 ...  -3.75   1.82  -4.17]\n",
      " [  2.92  23.66  -5.88 ...   0.14  -7.66  -2.89]\n",
      " [ 11.94   7.63  10.68 ...  -8.88   6.56   6.52]\n",
      " ...\n",
      " [ 11.3   -3.74 -16.48 ...  -4.2  -12.04  19.86]\n",
      " [-20.37 -18.03   5.11 ...  -4.37   4.94  -6.72]\n",
      " [-22.84 -13.43   3.85 ...  -6.8   -2.37  -5.21]]\n"
     ]
    }
   ],
   "source": [
    "np.set_printoptions(precision = 2, suppress=True)\n",
    "print(data_PC)\n",
    "np.set_printoptions()"
   ]
  },
  {
   "cell_type": "code",
   "execution_count": 118,
   "metadata": {},
   "outputs": [
    {
     "name": "stdout",
     "output_type": "stream",
     "text": [
      "n=0\t 0.0\n",
      "n=1\t 0.14664832075989603\n",
      "n=2\t 0.28401762149333865\n",
      "n=3\t 0.38799429563910065\n",
      "n=4\t 0.4577387800120078\n",
      "n=5\t 0.5060147722734161\n",
      "n=6\t 0.5486128969123252\n",
      "n=7\t 0.5749858984952718\n",
      "n=8\t 0.5999434439491111\n",
      "n=9\t 0.6229711308084542\n",
      "n=10\t 0.6434204683363245\n",
      "n=11\t 0.6602620184651349\n",
      "n=12\t 0.6760571048994761\n",
      "n=13\t 0.6902731262709318\n",
      "n=14\t 0.7033190751255387\n",
      "n=15\t 0.7162136515901829\n",
      "n=16\t 0.7262731519320027\n",
      "n=17\t 0.7356722692638497\n",
      "n=18\t 0.7448458977140382\n",
      "n=19\t 0.7531023584211113\n",
      "n=20\t 0.7609749403441779\n",
      "n=21\t 0.7687303272908613\n",
      "n=22\t 0.7760929756366194\n",
      "n=23\t 0.7825242622641875\n",
      "n=24\t 0.7888093260788309\n",
      "n=25\t 0.7950044356815785\n",
      "n=26\t 0.800712741489998\n",
      "n=27\t 0.806274100559064\n",
      "n=28\t 0.811571710653318\n",
      "n=29\t 0.8165324202886239\n",
      "n=30\t 0.8210968176902073\n",
      "n=31\t 0.8255361952141734\n",
      "n=32\t 0.8297578543315164\n",
      "n=33\t 0.833856946989833\n",
      "n=34\t 0.8376245455455653\n",
      "n=35\t 0.8413504505304427\n",
      "n=36\t 0.8448699785832539\n",
      "n=37\t 0.8482184737100562\n",
      "n=38\t 0.8514551378579444\n",
      "n=39\t 0.8546321083845562\n",
      "n=40\t 0.8575038647030233\n",
      "n=41\t 0.860408764606952\n",
      "n=42\t 0.8631786041181583\n",
      "n=43\t 0.8660590536263115\n",
      "n=44\t 0.8686947248063468\n",
      "n=45\t 0.8712000370287051\n",
      "n=46\t 0.873643962082169\n",
      "n=47\t 0.8761652127792682\n",
      "n=48\t 0.8783083836709786\n",
      "n=49\t 0.8806519791751385\n",
      "n=50\t 0.8827948524343852\n",
      "n=51\t 0.884958313112154\n",
      "n=52\t 0.8870213372754241\n",
      "n=53\t 0.8890455690663003\n",
      "n=54\t 0.8909123539116603\n",
      "n=55\t 0.8927716371725923\n",
      "n=56\t 0.8946032662308814\n",
      "n=57\t 0.896351580624376\n",
      "n=58\t 0.8980834849757587\n",
      "n=59\t 0.8997006111022001\n",
      "n=60\t 0.9013935074293956\n",
      "n=61\t 0.9029683307096368\n",
      "n=62\t 0.9044571477626381\n",
      "n=63\t 0.9060950042993434\n",
      "n=64\t 0.9076712309310495\n",
      "n=65\t 0.9090071322432755\n",
      "n=66\t 0.9104212212432836\n",
      "n=67\t 0.9118398085446355\n",
      "n=68\t 0.9131283451993696\n",
      "n=69\t 0.9145128161977252\n",
      "n=70\t 0.9156984460509381\n",
      "n=71\t 0.9170252944347437\n",
      "n=72\t 0.9182226032824208\n",
      "n=73\t 0.9194477056827118\n",
      "n=74\t 0.9206400054997854\n",
      "n=75\t 0.9218128383920291\n",
      "n=76\t 0.9228994995495845\n",
      "n=77\t 0.9240419873262847\n",
      "n=78\t 0.9251599505876719\n",
      "n=79\t 0.9262459942282744\n",
      "n=80\t 0.9272911956550298\n",
      "n=81\t 0.928333571830199\n",
      "n=82\t 0.9293314679167747\n",
      "n=83\t 0.9303456480186589\n",
      "n=84\t 0.9313562107431054\n",
      "n=85\t 0.9322851003209367\n",
      "n=86\t 0.9332199726605837\n",
      "n=87\t 0.9340945835825746\n",
      "n=88\t 0.9349297443056801\n",
      "n=89\t 0.935865415376931\n",
      "n=90\t 0.9367459297135184\n",
      "n=91\t 0.9376684538417815\n",
      "n=92\t 0.9384621061513919\n",
      "n=93\t 0.9392959687613232\n",
      "n=94\t 0.9401160188962293\n",
      "n=95\t 0.940819618288551\n",
      "n=96\t 0.9416229268221363\n",
      "n=97\t 0.9423863750595415\n",
      "n=98\t 0.9431179763351658\n",
      "n=99\t 0.9438254059856147\n",
      "n=100\t 0.9445085342737356\n",
      "n=101\t 0.9452209259580632\n",
      "n=102\t 0.9459372165602743\n",
      "n=103\t 0.9466543394759486\n",
      "n=104\t 0.9472701448028887\n",
      "n=105\t 0.9478824428081143\n",
      "n=106\t 0.9485625817625568\n",
      "n=107\t 0.9492320980871275\n",
      "n=108\t 0.9499383263563295\n",
      "n=109\t 0.9504744171536075\n"
     ]
    }
   ],
   "source": [
    "n = 0\n",
    "pca = decomposition.PCA(n_components=1)\n",
    "data_PC = pca.fit(train_arr).transform(train_arr)\n",
    "while np.sum(pca.explained_variance_ratio_) <.95:\n",
    "    pca = decomposition.PCA(n_components=n)\n",
    "    data_PC = pca.fit(train_arr).transform(train_arr)\n",
    "    print('n={}\\t'.format(n),np.sum(pca.explained_variance_ratio_))\n",
    "    n +=1"
   ]
  },
  {
   "cell_type": "code",
   "execution_count": 119,
   "metadata": {},
   "outputs": [
    {
     "data": {
      "text/plain": [
       "array([0, 0, 0, 0, 0, 0, 0, 0, 0, 0, 0, 0, 0, 0, 0, 0, 0, 0, 0, 0, 0, 0,\n",
       "       0, 0, 0, 0, 0, 0, 0, 0, 0, 0, 0, 0, 0, 0, 0, 0, 0, 0, 0, 0, 0, 0,\n",
       "       0, 0, 0, 0, 0, 0, 0, 0, 0, 0, 1, 0, 1, 1, 1, 1, 1, 0, 1, 1, 0, 0,\n",
       "       0, 0, 0, 0, 0, 0, 0, 0, 0, 0, 0, 0, 0, 0, 0, 0, 1, 0, 0, 1, 1, 1,\n",
       "       1, 1, 1, 1, 0, 0, 0, 0, 0, 0, 0, 0, 0, 0, 0, 0, 0, 0, 0, 0, 0, 0,\n",
       "       0, 0, 0, 0, 0, 0, 0, 0, 0, 0, 0, 0, 0, 0, 0, 0, 0, 0, 0, 0, 0, 0,\n",
       "       0, 0, 0, 0, 0, 0, 0, 0, 0, 0, 0, 0, 1, 1, 1, 1, 1, 1, 1, 1, 0, 1,\n",
       "       1, 0, 0, 0, 0, 0, 0, 1, 1, 1, 1, 0, 1, 1, 1, 1, 1, 1, 1, 1, 1, 0,\n",
       "       0, 1, 1, 0, 1, 1, 1, 1, 1, 0, 0, 0, 0, 0, 0, 0, 0, 0, 0, 0, 0, 0,\n",
       "       0, 0, 0, 0, 0, 0, 1, 1, 1, 0, 1, 1, 1, 0, 0, 1, 1, 0, 0, 0, 0, 0,\n",
       "       0, 0, 0, 0, 0, 0, 0, 0, 0, 0, 0, 0, 0, 0, 0, 0, 0, 0, 0, 0, 0, 0,\n",
       "       0, 0, 0, 0, 0, 0, 0, 0, 0, 0, 0, 0, 0, 0, 0, 0, 0, 0, 1, 1, 1, 1,\n",
       "       1, 1, 1, 1, 1, 1, 0, 0, 0, 0, 0, 0, 0, 0, 0, 0, 0, 0, 1, 0, 0, 0,\n",
       "       0, 1, 0, 1, 1, 1, 1, 1, 0, 0, 0, 0, 0, 0, 0, 0, 0, 0, 0, 0, 0, 0,\n",
       "       0, 0, 0, 0, 0, 0, 0, 1, 0, 1, 1, 1, 0, 1, 1, 1, 1, 0, 0, 0, 0, 0,\n",
       "       0, 0, 0, 0, 0, 0, 0, 0, 0, 0, 0, 0, 0, 0, 0, 0, 0, 0, 0, 0, 0, 0,\n",
       "       0, 0, 1, 1, 1, 1, 1, 1, 1, 1, 1, 1, 0, 0, 0, 0, 0, 0, 0, 0, 0, 0,\n",
       "       0, 0, 0, 0, 0, 0, 0, 1, 1, 1, 1, 1, 1, 1, 1, 0, 1, 1])"
      ]
     },
     "execution_count": 119,
     "metadata": {},
     "output_type": "execute_result"
    }
   ],
   "source": [
    "kmeans = KMeans(n_clusters= 2).fit(data_PC)\n",
    "clusters_PC = kmeans.predict(data_PC)\n",
    "kmeans.labels_"
   ]
  },
  {
   "cell_type": "code",
   "execution_count": 120,
   "metadata": {},
   "outputs": [
    {
     "data": {
      "image/png": "[encoded data removed]",
      "text/plain": [
       "<Figure size 432x288 with 1 Axes>"
      ]
     },
     "metadata": {
      "needs_background": "light"
     },
     "output_type": "display_data"
    }
   ],
   "source": [
    "plot_silhouettes(data_PC, clusters_PC)"
   ]
  },
  {
   "cell_type": "code",
   "execution_count": 125,
   "metadata": {},
   "outputs": [
    {
     "data": {
      "image/png": "[encoded data removed]",
      "text/plain": [
       "<Figure size 432x288 with 1 Axes>"
      ]
     },
     "metadata": {
      "needs_background": "light"
     },
     "output_type": "display_data"
    }
   ],
   "source": [
    "\n",
    "import matplotlib.pyplot as plt\n",
    "%matplotlib inline\n",
    "\n",
    "vari = pca.explained_variance_ratio_\n",
    "cumulVar = []\n",
    "running = 0\n",
    "for i in range(len(vari)):\n",
    "    running += vari[i]\n",
    "    cumulVar.append(running)\n",
    "cumulVar\n",
    "\n",
    "fig = plt.figure()\n",
    "ax = fig.add_subplot(111)\n",
    "ax.plot(range(1, 110), cumulVar, marker='o')\n",
    "plt.xlabel('Principal Component Number')\n",
    "plt.ylabel('Percentage of Variance')\n",
    "plt.show()"
   ]
  },
  {
   "cell_type": "code",
   "execution_count": 128,
   "metadata": {},
   "outputs": [
    {
     "name": "stdout",
     "output_type": "stream",
     "text": [
      "Homogeneity \tCompleteness\n",
      "-------------------------------------\n",
      "0.016649644\t0.016649644\n"
     ]
    }
   ],
   "source": [
    "print('Homogeneity \\tCompleteness\\n-------------------------------------')\n",
    "print('{1:.9f}\\t{1:.9f}'.format(metrics.homogeneity_score(train_labels_arr, clusters_PC),metrics.completeness_score(train_labels_arr, clusters_PC)))"
   ]
  },
  {
   "cell_type": "code",
   "execution_count": null,
   "metadata": {},
   "outputs": [],
   "source": []
  }
 ],
 "metadata": {
  "kernelspec": {
   "display_name": "Python 3",
   "language": "python",
   "name": "python3"
  },
  "language_info": {
   "codemirror_mode": {
    "name": "ipython",
    "version": 3
   },
   "file_extension": ".py",
   "mimetype": "text/x-python",
   "name": "python",
   "nbconvert_exporter": "python",
   "pygments_lexer": "ipython3",
   "version": "3.7.6"
  }
 },
 "nbformat": 4,
 "nbformat_minor": 4
}
