{
 "cells": [
  {
   "cell_type": "code",
   "execution_count": 34,
   "metadata": {},
   "outputs": [],
   "source": [
    "# import the necessary packages\n",
    "from keras.preprocessing.image import img_to_array\n",
    "from keras.models import load_model\n",
    "import numpy as np\n",
    "import argparse\n",
    "import imutils\n",
    "import cv2\n",
    "import matplotlib.pyplot as plt\n",
    "from imutils import paths\n",
    "\n",
    "%matplotlib inline  "
   ]
  },
  {
   "cell_type": "code",
   "execution_count": 35,
   "metadata": {},
   "outputs": [],
   "source": [
    "image_path=\"test\"\n",
    "imagePaths = sorted(list(paths.list_images(image_path)))\n",
    "\n",
    "images = []\n",
    "labels = []\n",
    "# loop over the input images\n",
    "for imagePath in imagePaths:\n",
    "    image = cv2.imread(imagePath)\n",
    "    orig = image.copy()\n",
    "     # pre-process the image for classification\n",
    "    image = cv2.resize(image, (480, 270))\n",
    "    image = image.astype(\"float\") / 255.0\n",
    "    image = img_to_array(image)\n",
    "    image = np.expand_dims(image, axis=0) \n",
    "    label = 'fake' if 'fake' in imagePath else 'real'\n",
    "    images.append(image)\n",
    "    labels.append(label)"
   ]
  },
  {
   "cell_type": "code",
   "execution_count": 36,
   "metadata": {},
   "outputs": [
    {
     "data": {
      "text/plain": [
       "['fake',\n",
       " 'fake',\n",
       " 'fake',\n",
       " 'fake',\n",
       " 'fake',\n",
       " 'fake',\n",
       " 'fake',\n",
       " 'fake',\n",
       " 'fake',\n",
       " 'fake',\n",
       " 'fake',\n",
       " 'fake']"
      ]
     },
     "execution_count": 36,
     "metadata": {},
     "output_type": "execute_result"
    }
   ],
   "source": [
    "labels"
   ]
  },
  {
   "cell_type": "code",
   "execution_count": 37,
   "metadata": {},
   "outputs": [
    {
     "name": "stdout",
     "output_type": "stream",
     "text": [
      "[INFO] loading network...\n",
      "Found  12  images.\n"
     ]
    }
   ],
   "source": [
    "model=\"real_fake.model\"\n",
    "# load the trained convolutional neural network\n",
    "print(\"[INFO] loading network...\")\n",
    "print(\"Found \", len(images), \" images.\")\n",
    "model = load_model(model)"
   ]
  },
  {
   "cell_type": "code",
   "execution_count": 38,
   "metadata": {},
   "outputs": [],
   "source": [
    "def predict(model, image):\n",
    "    (fake, real) = model.predict(image)[0]\n",
    "    label = \"real\" if real > fake else \"fake\"\n",
    "    return label"
   ]
  },
  {
   "cell_type": "code",
   "execution_count": 39,
   "metadata": {},
   "outputs": [],
   "source": [
    "def classify_image(model, image):\n",
    "    # classify the input image\n",
    "    (fake, real) = model.predict(image)[0]\n",
    "     # build the label\n",
    "    print(\"fake = \", fake, \" real = \", real)    \n",
    "    label = \"real\" if real > fake else \"fake\"\n",
    "    proba = real if real > fake else fake\n",
    "    label = \"{}: {:.2f}%\".format(label, proba * 100)   \n",
    "    # draw the label on the image\n",
    "    output = imutils.resize(orig, width=400)\n",
    "    cv2.putText(output, label, (10, 25),  cv2.FONT_HERSHEY_SIMPLEX,\n",
    "        0.7, (0, 255, 0), 2) \n",
    "    print(\"label is\", label)\n",
    "    return label, proba\n",
    "# show the output image\n",
    "#plt.imshow(output)\n",
    "#cv2.imshow(\"Output\", output)\n",
    "#cv2.waitKey(0)"
   ]
  },
  {
   "cell_type": "code",
   "execution_count": 40,
   "metadata": {},
   "outputs": [],
   "source": [
    "def evaluate_model(model, images, labels):\n",
    "    errorCount = 0.0\n",
    "    total = len(images)\n",
    "    for image, actualLabel in zip(images, labels):\n",
    "        predictedLabel = predict(model, image)\n",
    "        print(\"Predicted Label ==> \", predictedLabel, \", Actual Label ==> \", actualLabel)\n",
    "        if actualLabel != predictedLabel:\n",
    "            errorCount += 1.0\n",
    "    return errorCount / total     \n",
    "    \n",
    "        "
   ]
  },
  {
   "cell_type": "code",
   "execution_count": 41,
   "metadata": {},
   "outputs": [
    {
     "name": "stdout",
     "output_type": "stream",
     "text": [
      "Predicted Label ==>  fake , Actual Label ==>  fake\n",
      "Predicted Label ==>  fake , Actual Label ==>  fake\n",
      "Predicted Label ==>  fake , Actual Label ==>  fake\n",
      "Predicted Label ==>  fake , Actual Label ==>  fake\n",
      "Predicted Label ==>  fake , Actual Label ==>  fake\n",
      "Predicted Label ==>  fake , Actual Label ==>  fake\n",
      "Predicted Label ==>  fake , Actual Label ==>  fake\n",
      "Predicted Label ==>  fake , Actual Label ==>  fake\n",
      "Predicted Label ==>  fake , Actual Label ==>  fake\n",
      "Predicted Label ==>  fake , Actual Label ==>  fake\n",
      "Predicted Label ==>  fake , Actual Label ==>  fake\n",
      "Predicted Label ==>  fake , Actual Label ==>  fake\n"
     ]
    }
   ],
   "source": [
    "errorRate = evaluate_model(model, images, labels)\n"
   ]
  },
  {
   "cell_type": "code",
   "execution_count": 42,
   "metadata": {},
   "outputs": [
    {
     "name": "stdout",
     "output_type": "stream",
     "text": [
      "Error rate for model is  0.0\n"
     ]
    }
   ],
   "source": [
    "print(\"Error rate for model is \", errorRate)"
   ]
  },
  {
   "cell_type": "code",
   "execution_count": null,
   "metadata": {},
   "outputs": [],
   "source": []
  },
  {
   "cell_type": "code",
   "execution_count": null,
   "metadata": {},
   "outputs": [],
   "source": []
  }
 ],
 "metadata": {
  "kernelspec": {
   "display_name": "Python 3",
   "language": "python",
   "name": "python3"
  },
  "language_info": {
   "codemirror_mode": {
    "name": "ipython",
    "version": 3
   },
   "file_extension": ".py",
   "mimetype": "text/x-python",
   "name": "python",
   "nbconvert_exporter": "python",
   "pygments_lexer": "ipython3",
   "version": "3.7.4"
  }
 },
 "nbformat": 4,
 "nbformat_minor": 4
}
